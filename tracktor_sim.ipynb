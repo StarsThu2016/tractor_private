{
 "cells": [
  {
   "cell_type": "markdown",
   "metadata": {},
   "source": [
    "# 为什么线下打升级感觉牌更差呢?\n",
    "猜想: 线下洗牌不彻底导致对子没有拆开洗匀, 这样会导致手上的对子减少, 从而导致牌变差  \n",
    "论证: \n",
    "我们以2副牌, 4个人, 标准升级模式为例. 用抓底牌前一个人手上的对子数量衡量手牌的好坏.  \n",
    "线上发牌法: 模拟100k局, 108张牌, 随机抽取25/33张, 统计对子数量  \n",
    "线下发牌法: 打10局, 每次打完洗牌5次, 然后继续打牌  "
   ]
  },
  {
   "cell_type": "markdown",
   "metadata": {},
   "source": [
    "## 线上模拟\n",
    "### 4个人 - 2副牌 - 25/33张牌"
   ]
  },
  {
   "cell_type": "code",
   "execution_count": 9,
   "metadata": {},
   "outputs": [
    {
     "name": "stdout",
     "output_type": "stream",
     "text": [
      "# pairs distribution: [2585, 13041, 26612, 29202, 18852, 7492, 1914, 271, 29, 2, 0, 0, 0, 0, 0, 0, 0]\n",
      "25 cards, mean # pairs = 2.80\n",
      "# pairs distribution: [85, 889, 4385, 12474, 21961, 24901, 19757, 10570, 3848, 937, 173, 17, 3, 0, 0, 0, 0]\n",
      "33 cards, mean # pairs = 4.93\n"
     ]
    }
   ],
   "source": [
    "import random\n",
    "from collections import Counter\n",
    "for ncards in [25, 33]:\n",
    "    cnt_pairs = [0 for x in range(17)]\n",
    "    for cnt in range(100000):\n",
    "        deck = [n for n in range(108)]\n",
    "        random.shuffle(deck)\n",
    "        cards = deck[:ncards]\n",
    "        counter = Counter([c//2 for c in cards])\n",
    "        num_pair = len([val for _, val in counter.items() if val>=2])\n",
    "        cnt_pairs[num_pair] += 1\n",
    "    print(\"# pairs distribution: {}\".format(cnt_pairs))\n",
    "    print(\"{} cards, mean # pairs = {:.2f}\".format(ncards, sum([idx*n/sum(cnt_pairs) for idx, n in enumerate(cnt_pairs)])))"
   ]
  },
  {
   "cell_type": "markdown",
   "metadata": {},
   "source": [
    "### 5个人 - 3副牌 - 31/38张牌"
   ]
  },
  {
   "cell_type": "code",
   "execution_count": 11,
   "metadata": {},
   "outputs": [
    {
     "name": "stdout",
     "output_type": "stream",
     "text": [
      "[36, 573, 3366, 10595, 20779, 25999, 21549, 11665, 4282, 1008, 133, 14, 1, 0, 0, 0, 0, 0, 0, 0]\n",
      "31 cards, mean # pairs = 5.08\n",
      "[0, 7, 81, 607, 2860, 8478, 16805, 23325, 22432, 14969, 7404, 2361, 569, 93, 8, 1, 0, 0, 0, 0]\n",
      "38 cards, mean # pairs = 7.42\n"
     ]
    }
   ],
   "source": [
    "import random\n",
    "from collections import Counter\n",
    "for ncards in [31, 38]:\n",
    "    cnt_pairs = [0 for x in range(20)]\n",
    "    for cnt in range(100000):\n",
    "        deck = [n for n in range(54*3)]\n",
    "        random.shuffle(deck)\n",
    "        cards = deck[:ncards]\n",
    "        counter = Counter([c//3 for c in cards])\n",
    "        num_pair = len([val for _, val in counter.items() if val>=2])\n",
    "        cnt_pairs[num_pair] += 1\n",
    "    print(cnt_pairs)\n",
    "    print(\"{} cards, mean # pairs = {:.2f}\".format(ncards, sum([idx*n/sum(cnt_pairs) for idx, n in enumerate(cnt_pairs)])))"
   ]
  },
  {
   "cell_type": "markdown",
   "metadata": {},
   "source": [
    "## 线上实验\n",
    "24次发牌, 统计"
   ]
  },
  {
   "cell_type": "code",
   "execution_count": 27,
   "metadata": {},
   "outputs": [
    {
     "name": "stdout",
     "output_type": "stream",
     "text": [
      "number of experiment = 24\n",
      "mean number of pairs = 2.79\n"
     ]
    }
   ],
   "source": [
    "num_pairs = [2, 5, 3, 1, 2, 3, 2, 2, 3, 2, 3, 3, 2, 4, 3, 4, 4, 2, 1, 2, 4, 4, 3, 3]\n",
    "print(\"number of experiment = {:d}\".format(len(num_pairs)))\n",
    "print(\"mean number of pairs = {:.2f}\".format(sum(num_pairs)/len(num_pairs)))"
   ]
  },
  {
   "cell_type": "markdown",
   "metadata": {},
   "source": [
    "# 线下实验\n",
    "5次手动模拟"
   ]
  },
  {
   "cell_type": "code",
   "execution_count": 29,
   "metadata": {},
   "outputs": [
    {
     "name": "stdout",
     "output_type": "stream",
     "text": [
      "number of experiment = 20\n",
      "mean number of pairs = 2.00\n"
     ]
    }
   ],
   "source": [
    "num_pairss = [[1, 2, 1, 3], [2, 1, 3, 1], [1, 2, 2, 4], [2, 0, 5, 2], [3, 1, 2, 2]]\n",
    "num_pairs = [n for p in num_pairss for n in p]\n",
    "print(\"number of experiment = {:d}\".format(len(num_pairs)))\n",
    "print(\"mean number of pairs = {:.2f}\".format(sum(num_pairs)/len(num_pairs)))"
   ]
  },
  {
   "cell_type": "code",
   "execution_count": null,
   "metadata": {},
   "outputs": [],
   "source": []
  }
 ],
 "metadata": {
  "kernelspec": {
   "display_name": "Python 3",
   "language": "python",
   "name": "python3"
  },
  "language_info": {
   "codemirror_mode": {
    "name": "ipython",
    "version": 3
   },
   "file_extension": ".py",
   "mimetype": "text/x-python",
   "name": "python",
   "nbconvert_exporter": "python",
   "pygments_lexer": "ipython3",
   "version": "3.7.4"
  }
 },
 "nbformat": 4,
 "nbformat_minor": 2
}
